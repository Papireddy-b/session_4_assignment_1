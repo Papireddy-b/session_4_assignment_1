{
 "cells": [
  {
   "cell_type": "code",
   "execution_count": 36,
   "metadata": {},
   "outputs": [
    {
     "name": "stdout",
     "output_type": "stream",
     "text": [
      "[5.0, 4.666666666666667, 5.666666666666667, 6.666666666666667, 9.666666666666666, 28.666666666666668, 49.333333333333336, 72.66666666666667, 84.0, 93.33333333333333, 116.33333333333333]\n"
     ]
    }
   ],
   "source": [
    "#task 1\n",
    "#write a function to find moving average in array over a window of size 3\n",
    "\n",
    "def moving_average(a,k):\n",
    "    n=len(a)\n",
    "    l=[]\n",
    "    for i in range(0,n-k+1,1):\n",
    "        summ=0\n",
    "        for j in range(0,k):\n",
    "            summ=summ+a[i+j]\n",
    "        l.append(summ/3)\n",
    "    return l  \n",
    "    \n",
    "def main():\n",
    "    k=3\n",
    "    l=[3,5,7,2,8,10,11,65,72,81,99,100,150]\n",
    "    result=moving_average(l,k)\n",
    "    print(result)\n",
    "    \n",
    "if __name__=='__main__':main()"
   ]
  },
  {
   "cell_type": "code",
   "execution_count": 37,
   "metadata": {},
   "outputs": [
    {
     "name": "stdout",
     "output_type": "stream",
     "text": [
      "   X  Y\n",
      "0  7  1\n",
      "1  2  2\n",
      "2  0  0\n",
      "3  3  1\n",
      "4  4  2\n",
      "5  2  3\n",
      "6  5  4\n",
      "7  0  0\n",
      "8  3  1\n",
      "9  4  2\n"
     ]
    }
   ],
   "source": [
    "#How-to-count-distance-to-the-previous-zero\n",
    "#For each value, count the difference back to the previous zero (or the start of the Series,\n",
    "#whichever is closer\n",
    "\n",
    "import pandas as pd\n",
    "df = pd.DataFrame({'X':[7,2,0,3,4,2,5,0,3,4]})\n",
    "X_flat = df.index[df['X']].tolist()\n",
    "prev_zero = [(X_flat[i::-1]+[0]).index(0) for i in range(len(X_flat))]\n",
    "df['Y'] = prev_zero\n",
    "print(df)"
   ]
  },
  {
   "cell_type": "code",
   "execution_count": 38,
   "metadata": {},
   "outputs": [
    {
     "name": "stdout",
     "output_type": "stream",
     "text": [
      "2015-01-01    1001\n",
      "2015-01-02    1375\n",
      "2015-01-05     918\n",
      "2015-01-06    1145\n",
      "2015-01-07    1084\n",
      "2015-01-08    1416\n",
      "2015-01-09    1128\n",
      "2015-01-12     610\n",
      "2015-01-13    1076\n",
      "2015-01-14    1047\n",
      "2015-01-15     541\n",
      "2015-01-16    1433\n",
      "2015-01-19     845\n",
      "2015-01-20     801\n",
      "2015-01-21    1309\n",
      "2015-01-22    1145\n",
      "2015-01-23    1369\n",
      "2015-01-26     526\n",
      "2015-01-27    1390\n",
      "2015-01-28     930\n",
      "2015-01-29     806\n",
      "2015-01-30     607\n",
      "2015-02-02     787\n",
      "2015-02-03     630\n",
      "2015-02-04     758\n",
      "2015-02-05     799\n",
      "2015-02-06    1057\n",
      "2015-02-09    1279\n",
      "2015-02-10    1301\n",
      "2015-02-11    1049\n",
      "              ... \n",
      "2015-11-20    1028\n",
      "2015-11-23    1049\n",
      "2015-11-24     715\n",
      "2015-11-25     793\n",
      "2015-11-26     954\n",
      "2015-11-27    1275\n",
      "2015-11-30    1113\n",
      "2015-12-01    1297\n",
      "2015-12-02    1058\n",
      "2015-12-03    1003\n",
      "2015-12-04    1232\n",
      "2015-12-07     794\n",
      "2015-12-08    1122\n",
      "2015-12-09     906\n",
      "2015-12-10    1293\n",
      "2015-12-11     852\n",
      "2015-12-14     978\n",
      "2015-12-15    1274\n",
      "2015-12-16     795\n",
      "2015-12-17     601\n",
      "2015-12-18    1462\n",
      "2015-12-21     723\n",
      "2015-12-22     689\n",
      "2015-12-23    1062\n",
      "2015-12-24     740\n",
      "2015-12-25     976\n",
      "2015-12-28    1184\n",
      "2015-12-29    1271\n",
      "2015-12-30    1403\n",
      "2015-12-31     517\n",
      "Freq: B, Length: 261, dtype: int32\n"
     ]
    }
   ],
   "source": [
    "#Create a DatetimeIndex that contains each business day of 2015 and use it to index a Series of\n",
    "#random numbers.\n",
    "\n",
    "import pandas as pd\n",
    "import numpy.random as np\n",
    "index = pd.date_range('2015-01-01', '2015-12-31',freq='B')\n",
    "data=np.randint(500,1500,len(index))\n",
    "s = pd.Series(data, index=index)\n",
    "print(s)"
   ]
  },
  {
   "cell_type": "code",
   "execution_count": 39,
   "metadata": {},
   "outputs": [
    {
     "data": {
      "text/plain": [
       "54681"
      ]
     },
     "execution_count": 39,
     "metadata": {},
     "output_type": "execute_result"
    }
   ],
   "source": [
    "#Find the sum of the values in s for every Wednesday\n",
    "\n",
    "s.groupby(s.index.weekday_name).sum().Wednesday"
   ]
  },
  {
   "cell_type": "code",
   "execution_count": 41,
   "metadata": {},
   "outputs": [
    {
     "data": {
      "text/plain": [
       "1     1022.818182\n",
       "2      992.100000\n",
       "3     1041.772727\n",
       "4     1017.090909\n",
       "5     1022.761905\n",
       "6     1059.136364\n",
       "7     1041.217391\n",
       "8     1115.904762\n",
       "9     1130.409091\n",
       "10    1016.363636\n",
       "11    1008.333333\n",
       "12    1010.086957\n",
       "dtype: float64"
      ]
     },
     "execution_count": 41,
     "metadata": {},
     "output_type": "execute_result"
    }
   ],
   "source": [
    "#Average For each calendar month\n",
    "\n",
    "s.groupby(s.index.month).mean()"
   ]
  },
  {
   "cell_type": "code",
   "execution_count": 42,
   "metadata": {},
   "outputs": [
    {
     "name": "stdout",
     "output_type": "stream",
     "text": [
      "0   2015-01-31\n",
      "1   2015-05-31\n",
      "2   2015-09-30\n",
      "dtype: datetime64[ns]\n"
     ]
    },
    {
     "name": "stderr",
     "output_type": "stream",
     "text": [
      "C:\\Users\\SONY\\Anaconda3\\lib\\site-packages\\ipykernel_launcher.py:4: FutureWarning: pd.TimeGrouper is deprecated and will be removed; Please use pd.Grouper(freq=...)\n",
      "  after removing the cwd from sys.path.\n"
     ]
    }
   ],
   "source": [
    "#For each group of four consecutive calendar months in s, find the date on which the highest\n",
    "#value occurred.\n",
    "\n",
    "con_4=s.groupby(pd.TimeGrouper('4M')).max()\n",
    "con_4=pd.Series(con_4[0:3].index)\n",
    "print(con_4)"
   ]
  },
  {
   "cell_type": "code",
   "execution_count": null,
   "metadata": {},
   "outputs": [],
   "source": []
  }
 ],
 "metadata": {
  "kernelspec": {
   "display_name": "Python 3",
   "language": "python",
   "name": "python3"
  },
  "language_info": {
   "codemirror_mode": {
    "name": "ipython",
    "version": 3
   },
   "file_extension": ".py",
   "mimetype": "text/x-python",
   "name": "python",
   "nbconvert_exporter": "python",
   "pygments_lexer": "ipython3",
   "version": "3.6.3"
  }
 },
 "nbformat": 4,
 "nbformat_minor": 2
}
